{
 "cells": [
  {
   "cell_type": "markdown",
   "metadata": {},
   "source": [
    "# Regression Lab\n",
    "\n",
    "Now have all the necessary functions to calculate the slope, intercept, best-fit line, prediction and visualizations. In this lab you will put them all together to run a regression experiment and calculate model loss. \n",
    "\n",
    "## SWBAT\n",
    "\n",
    "* Run a complete regression analysis through code only. "
   ]
  },
  {
   "cell_type": "markdown",
   "metadata": {},
   "source": [
    "## Here are all the formulas to put everything in perspective\n",
    "\n",
    "#### Slope\n",
    "<img src=\"m.png\" width = 300>\n",
    "\n",
    "#### Intercept \n",
    "<img src=\"b.png\" width = 200>\n",
    "\n",
    "#### R-squared\n",
    "<img src=\"r2.png\" width = 400>\n",
    "\n",
    "#### Prediction\n",
    "![](pred.jpg)\n",
    "\n",
    "\n",
    "Use the functions created earlier to implement these formulas to run a regression analysis using X and Y as input variables. "
   ]
  },
  {
   "cell_type": "code",
   "execution_count": 17,
   "metadata": {},
   "outputs": [],
   "source": [
    "import numpy as np"
   ]
  },
  {
   "cell_type": "code",
   "execution_count": 18,
   "metadata": {},
   "outputs": [],
   "source": [
    "\n",
    "# Combine all the functions created so far to run a complete regression experiment. \n",
    "# Produce an output similar to the one shown below. \n",
    "\n",
    "X = np.array([1,2,3,4,5,6,7,8,9,10], dtype=np.float64)\n",
    "Y = np.array([7,7,8,9,9,10,10,11,11,12], dtype=np.float64)\n"
   ]
  },
  {
   "cell_type": "code",
   "execution_count": 20,
   "metadata": {},
   "outputs": [],
   "source": [
    "import matplotlib.pyplot as plt"
   ]
  },
  {
   "cell_type": "code",
   "execution_count": 57,
   "metadata": {},
   "outputs": [],
   "source": [
    "def basic_regression_diagnostics(x, y):\n",
    "    x_mean = np.mean(x)\n",
    "    y_mean = np.mean(y)\n",
    "    xy_mean = np.mean(x * y)\n",
    "    \n",
    "    m = round((x_mean * y_mean - xy_mean) / ((x_mean**2) - np.mean(x**2)),2)\n",
    "    b = round(y_mean - m * (x_mean),2)\n",
    "    \n",
    "    regression_line = []\n",
    "    for index in range(0,len(x)):\n",
    "        regression_line.append((m * x[index]) + b)\n",
    "     \n",
    "    SSE = 0 #real - y_hat\n",
    "    SST = 0 #real - real_mean\n",
    "    for index in range(0,len(y)):\n",
    "        SSE += (y[index] - regression_line[index]) ** 2\n",
    "        SST += (y[index] - np.mean(y)) ** 2\n",
    "    r_sq = round(1 - (SSE / SST), 2)\n",
    "    \n",
    "    print(\"Basic Regression Diagnostics\")\n",
    "    print('----------------------------')\n",
    "    print('Slope: ' + str(m))\n",
    "    print('Y-Intercept: ' + str(b))\n",
    "    print('R-Squared: ' + str(r_sq))\n",
    "    print('----------------------------')\n",
    "    print('Model: y  = ' + str(m) + ' * x +  + '+ str(b))\n",
    "    \n",
    "    \n",
    "    plt.scatter(x, y, color = 'blue', label = 'data')\n",
    "    plt.plot(x, regression_line, color = 'red', label = 'regression line')\n",
    "    plt.legend()\n",
    "    return(m, b, plt)\n",
    "    "
   ]
  },
  {
   "cell_type": "code",
   "execution_count": 58,
   "metadata": {},
   "outputs": [
    {
     "name": "stdout",
     "output_type": "stream",
     "text": [
      "Basic Regression Diagnostics\n",
      "----------------------------\n",
      "Slope: 0.56\n",
      "Y-Intercept: 6.32\n",
      "R-Squared: 0.97\n",
      "----------------------------\n",
      "Model: y  = 0.56 * x +  + 6.32\n"
     ]
    },
    {
     "data": {
      "text/plain": [
       "(0.56,\n",
       " 6.32,\n",
       " <module 'matplotlib.pyplot' from '/Users/dgoldstein24/anaconda3/lib/python3.6/site-packages/matplotlib/pyplot.py'>)"
      ]
     },
     "execution_count": 58,
     "metadata": {},
     "output_type": "execute_result"
    },
    {
     "data": {
      "image/png": "[encoded data removed]",
      "text/plain": [
       "<Figure size 432x288 with 1 Axes>"
      ]
     },
     "metadata": {},
     "output_type": "display_data"
    }
   ],
   "source": [
    "basic_regression_diagnostics(X, Y)"
   ]
  },
  {
   "cell_type": "code",
   "execution_count": 59,
   "metadata": {},
   "outputs": [],
   "source": [
    "# Basic Regression Diagnostics\n",
    "# ----------------------------\n",
    "# Slope: 0.56\n",
    "# Y-Intercept: 6.33\n",
    "# R-Squared: 0.97\n",
    "# ----------------------------\n",
    "# Model: Y = 0.56 * X + 6.33"
   ]
  },
  {
   "cell_type": "markdown",
   "metadata": {},
   "source": [
    "## Make Predictions\n",
    "\n",
    "Predict and plot the value of y using regression line above for a new value of x = 4.5."
   ]
  },
  {
   "cell_type": "code",
   "execution_count": 61,
   "metadata": {},
   "outputs": [
    {
     "name": "stdout",
     "output_type": "stream",
     "text": [
      "Basic Regression Diagnostics\n",
      "----------------------------\n",
      "Slope: 0.56\n",
      "Y-Intercept: 6.32\n",
      "R-Squared: 0.97\n",
      "----------------------------\n",
      "Model: y  = 0.56 * x +  + 6.32\n",
      "Basic Regression Diagnostics\n",
      "----------------------------\n",
      "Slope: 0.56\n",
      "Y-Intercept: 6.32\n",
      "R-Squared: 0.97\n",
      "----------------------------\n",
      "Model: y  = 0.56 * x +  + 6.32\n"
     ]
    },
    {
     "data": {
      "text/plain": [
       "<matplotlib.legend.Legend at 0x1143aa6d8>"
      ]
     },
     "execution_count": 61,
     "metadata": {},
     "output_type": "execute_result"
    },
    {
     "data": {
      "image/png": "[encoded data removed]",
      "text/plain": [
       "<Figure size 432x288 with 1 Axes>"
      ]
     },
     "metadata": {},
     "output_type": "display_data"
    }
   ],
   "source": [
    "# Make prediction using given value and visualize on the scatter plot\n",
    "m, b = basic_regression_diagnostics(X, Y)[0], basic_regression_diagnostics(X, Y)[1]\n",
    "new_x = 4.5\n",
    "new_y = (new_x * m) + b\n",
    "\n",
    "plt.scatter(new_x, new_y, color = 'green', label = 'estimated at 4.5')\n",
    "plt.legend()"
   ]
  },
  {
   "cell_type": "markdown",
   "metadata": {},
   "source": [
    "## Level up - Optional \n",
    "Load the \"heightWeight.csv\" dataset. Use the height as an independant and weight as a dependant variable and draw a regression line to data using your code above. Calculate your R-square for the model and try to predict new values of Y. "
   ]
  },
  {
   "cell_type": "markdown",
   "metadata": {},
   "source": [
    "## Summary\n",
    "\n",
    "In this lab, we ran a complete simple regression analysis experiment using functions created so far. Next We shall see how we can use python's built in modules to perform such analyses with a much higher level of sophistication. "
   ]
  },
  {
   "cell_type": "code",
   "execution_count": null,
   "metadata": {},
   "outputs": [],
   "source": []
  }
 ],
 "metadata": {
  "kernelspec": {
   "display_name": "Python 3",
   "language": "python",
   "name": "python3"
  },
  "language_info": {
   "codemirror_mode": {
    "name": "ipython",
    "version": 3
   },
   "file_extension": ".py",
   "mimetype": "text/x-python",
   "name": "python",
   "nbconvert_exporter": "python",
   "pygments_lexer": "ipython3",
   "version": "3.6.5"
  }
 },
 "nbformat": 4,
 "nbformat_minor": 2
}
